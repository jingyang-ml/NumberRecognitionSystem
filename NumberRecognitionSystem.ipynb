{
 "cells": [
  {
   "cell_type": "code",
   "execution_count": 2,
   "metadata": {},
   "outputs": [],
   "source": [
    "import numpy as np\n",
    "import matplotlib.pyplot as plt\n",
    "from sklearn.metrics import accuracy_score\n",
    "from keras import datasets"
   ]
  },
  {
   "cell_type": "markdown",
   "metadata": {},
   "source": [
    "# MNIST Dataset.\n",
    "# https://www.kaggle.com/oddrationale/mnist-in-csv"
   ]
  },
  {
   "cell_type": "code",
   "execution_count": 3,
   "metadata": {},
   "outputs": [],
   "source": [
    "\n",
    "(x_train, y_train), (x_test, y_test) = datasets.mnist.load_data()\n"
   ]
  },
  {
   "cell_type": "code",
   "execution_count": 4,
   "metadata": {},
   "outputs": [
    {
     "data": {
      "text/plain": [
       "(60000, 28, 28)"
      ]
     },
     "execution_count": 4,
     "metadata": {},
     "output_type": "execute_result"
    }
   ],
   "source": [
    "x_train.shape"
   ]
  },
  {
   "cell_type": "code",
   "execution_count": 5,
   "metadata": {},
   "outputs": [
    {
     "data": {
      "text/plain": [
       "(10000, 28, 28)"
      ]
     },
     "execution_count": 5,
     "metadata": {},
     "output_type": "execute_result"
    }
   ],
   "source": [
    "x_test.shape"
   ]
  },
  {
   "cell_type": "markdown",
   "metadata": {},
   "source": [
    "# Normalization\n"
   ]
  },
  {
   "cell_type": "code",
   "execution_count": 6,
   "metadata": {},
   "outputs": [],
   "source": [
    "x_train = x_train.reshape(60000, 784)/255.0\n",
    "x_test = x_test.reshape(10000, 784)/255.0"
   ]
  },
  {
   "cell_type": "code",
   "execution_count": 7,
   "metadata": {},
   "outputs": [
    {
     "data": {
      "text/plain": [
       "(60000, 784)"
      ]
     },
     "execution_count": 7,
     "metadata": {},
     "output_type": "execute_result"
    }
   ],
   "source": [
    "x_train.shape"
   ]
  },
  {
   "cell_type": "code",
   "execution_count": 8,
   "metadata": {},
   "outputs": [
    {
     "data": {
      "text/plain": [
       "(10000, 784)"
      ]
     },
     "execution_count": 8,
     "metadata": {},
     "output_type": "execute_result"
    }
   ],
   "source": [
    "x_test.shape"
   ]
  },
  {
   "cell_type": "markdown",
   "metadata": {},
   "source": [
    "# Adding bias"
   ]
  },
  {
   "cell_type": "code",
   "execution_count": 9,
   "metadata": {},
   "outputs": [],
   "source": [
    "train_shape = np.shape(x_train)\n",
    "train_size = train_shape[0]\n",
    "\n",
    "test_shape  = np.shape(x_test)\n",
    "test_size  = test_shape[0]"
   ]
  },
  {
   "cell_type": "code",
   "execution_count": 10,
   "metadata": {},
   "outputs": [
    {
     "data": {
      "text/plain": [
       "10000"
      ]
     },
     "execution_count": 10,
     "metadata": {},
     "output_type": "execute_result"
    }
   ],
   "source": [
    "test_size"
   ]
  },
  {
   "cell_type": "code",
   "execution_count": 11,
   "metadata": {},
   "outputs": [],
   "source": [
    "train_bias = np.ones((train_size, 1))\n",
    "test_bias = np.ones((test_size, 1))\n",
    "\n",
    "x_train = np.concatenate((x_train, train_bias), axis=1)\n",
    "x_test = np.concatenate((x_test, test_bias), axis=1)\n",
    "\n"
   ]
  },
  {
   "cell_type": "code",
   "execution_count": 12,
   "metadata": {},
   "outputs": [
    {
     "data": {
      "text/plain": [
       "60000"
      ]
     },
     "execution_count": 12,
     "metadata": {},
     "output_type": "execute_result"
    }
   ],
   "source": [
    "x_train.shape[0]"
   ]
  },
  {
   "cell_type": "code",
   "execution_count": 13,
   "metadata": {},
   "outputs": [
    {
     "name": "stdout",
     "output_type": "stream",
     "text": [
      "784\n"
     ]
    }
   ],
   "source": [
    "print(28*28)"
   ]
  },
  {
   "cell_type": "code",
   "execution_count": 14,
   "metadata": {},
   "outputs": [
    {
     "data": {
      "text/plain": [
       "array([[0., 0., 0., ..., 0., 0., 1.],\n",
       "       [0., 0., 0., ..., 0., 0., 1.],\n",
       "       [0., 0., 0., ..., 0., 0., 1.],\n",
       "       ...,\n",
       "       [0., 0., 0., ..., 0., 0., 1.],\n",
       "       [0., 0., 0., ..., 0., 0., 1.],\n",
       "       [0., 0., 0., ..., 0., 0., 1.]])"
      ]
     },
     "execution_count": 14,
     "metadata": {},
     "output_type": "execute_result"
    }
   ],
   "source": [
    "x_train"
   ]
  },
  {
   "cell_type": "markdown",
   "metadata": {},
   "source": [
    "## np.uint8: Unsigned integer (0 to 255)"
   ]
  },
  {
   "cell_type": "markdown",
   "metadata": {},
   "source": [
    "## UTF-8 is one of the most commonly used encodings, and Python often defaults to using it. UTF stands for “Unicode Transformation Format”, and the ‘8’ means that 8-bit values are used in the encoding. "
   ]
  },
  {
   "cell_type": "markdown",
   "metadata": {},
   "source": [
    "# Converting features to ascii code."
   ]
  },
  {
   "cell_type": "code",
   "execution_count": 15,
   "metadata": {},
   "outputs": [
    {
     "data": {
      "text/plain": [
       "60000"
      ]
     },
     "execution_count": 15,
     "metadata": {},
     "output_type": "execute_result"
    }
   ],
   "source": [
    "y_train.shape[0]"
   ]
  },
  {
   "cell_type": "code",
   "execution_count": 16,
   "metadata": {},
   "outputs": [],
   "source": [
    "\n",
    "import binascii\n",
    "\n",
    "y_train_ascii = []\n",
    "for i in range(y_train.shape[0]):\n",
    "  # ecoding y_train using 'utf-8'\n",
    "  char_y = str(y_train[i]).encode('utf-8')\n",
    "  # Return the hexadecimal representation of the binary data. Every byte of data is converted into the corresponding \n",
    "  # 2-digit hex representation. The resulting string is therefore twice as long as the length of data.\n",
    "  to_hex = binascii.hexlify(char_y)\n",
    "  # converts and returns the binary equivalent string of a given integer.\n",
    "  to_bin = bin(int(to_hex, 16))\n",
    "  # final ascii code\n",
    "  ascii_y = to_bin[4:]\n",
    "  \n",
    "  ascii_code = list(map(int, ascii_y))\n",
    "\n",
    "  y_train_ascii.append(ascii_code)\n",
    "\n"
   ]
  },
  {
   "cell_type": "code",
   "execution_count": 17,
   "metadata": {},
   "outputs": [],
   "source": [
    "y_test_ascii = []\n",
    "for i in range(y_test.shape[0]):\n",
    "  # ecoding y_train using 'utf-8'\n",
    "  char_y = str(y_test[i]).encode('utf-8')\n",
    "  # Return the hexadecimal representation of the binary data. Every byte of data is converted into the corresponding \n",
    "  # 2-digit hex representation. The resulting string is therefore twice as long as the length of data.\n",
    "  to_hex = binascii.hexlify(char_y)\n",
    "  # converts and returns the binary equivalent string of a given integer.\n",
    "  to_bin = bin(int(to_hex, 16))\n",
    "  # final ascii code\n",
    "  ascii_y = to_bin[4:]\n",
    "  \n",
    "  ascii_code = list(map(int, ascii_y))\n",
    "\n",
    "  y_test_ascii.append(ascii_code)"
   ]
  },
  {
   "cell_type": "code",
   "execution_count": 18,
   "metadata": {},
   "outputs": [
    {
     "data": {
      "text/plain": [
       "10000"
      ]
     },
     "execution_count": 18,
     "metadata": {},
     "output_type": "execute_result"
    }
   ],
   "source": [
    "y_test.shape[0]"
   ]
  },
  {
   "cell_type": "code",
   "execution_count": 19,
   "metadata": {},
   "outputs": [],
   "source": [
    "y_train, y_test = np.asarray(y_train_ascii), np.asarray(y_test_ascii)"
   ]
  },
  {
   "cell_type": "code",
   "execution_count": 20,
   "metadata": {},
   "outputs": [
    {
     "data": {
      "text/plain": [
       "array([0, 0, 1, 0])"
      ]
     },
     "execution_count": 20,
     "metadata": {},
     "output_type": "execute_result"
    }
   ],
   "source": [
    "y_test[1]"
   ]
  },
  {
   "cell_type": "markdown",
   "metadata": {},
   "source": [
    "# Activation of the hidden nodes h and the weights to the hidden nodes wh, the corresponding gradient dwh and delta term dh."
   ]
  },
  {
   "cell_type": "markdown",
   "metadata": {},
   "source": [
    "# The @ (at) operator: matrix multiplication."
   ]
  },
  {
   "cell_type": "markdown",
   "metadata": {},
   "source": [
    "# Cross Validation"
   ]
  },
  {
   "cell_type": "markdown",
   "metadata": {},
   "source": [
    "Cross-validation is a technique that helps in tackling with **noisy data by preventing overfitting**.\n",
    "This is just like overfitting. In **cross-validation**, the dataset is broken into **3 sets** (rather than 2):\n",
    "\n",
    "* **Training data**\n",
    "* **Cross validation data**\n",
    "* **Testing data**\n",
    "\n",
    "The algorithm is trained using the training data. However, the hyper-parameters are tuned using the cross-validation data which is separate from the training data. This makes sure that the algorithm is able to avoid learning the noise present in the training data and rather generalize by a cross-validation procedure. Finally, the fresh, test data can be used to evaluate how well the algorithm was able to generalize."
   ]
  },
  {
   "cell_type": "code",
   "execution_count": 21,
   "metadata": {},
   "outputs": [],
   "source": [
    "# Separate the dataset into 3 subdatasets to train the model on a subset of training examples.\n",
    "x_train_1, y_train_1 = x_train[:20000], y_train[:20000]  \n",
    "x_train_2, y_train_2 = x_train[20000:40000], y_train[20000:40000]  \n",
    "x_train_3, y_train_3 = x_train[40000:], y_train[40000:]"
   ]
  },
  {
   "cell_type": "markdown",
   "metadata": {},
   "source": [
    "# Nh=8, 32, 64."
   ]
  },
  {
   "cell_type": "code",
   "execution_count": 22,
   "metadata": {},
   "outputs": [],
   "source": [
    "# model specifications\n",
    "Ni=785; Nh=32; No=4;\n",
    "learning_rate = 0.1\n",
    "Ntrials = 1000"
   ]
  },
  {
   "cell_type": "code",
   "execution_count": 23,
   "metadata": {},
   "outputs": [],
   "source": [
    "#parameter and array initialization\n",
    "wh=np.random.randn(Nh,Ni); dwh=np.zeros(wh.shape) \n",
    "wo=np.random.randn(No,Nh); dwo=np.zeros(wo.shape) \n",
    "error=np.array([])\n"
   ]
  },
  {
   "cell_type": "markdown",
   "metadata": {},
   "source": [
    "# Regularization"
   ]
  },
  {
   "cell_type": "markdown",
   "metadata": {},
   "source": [
    "### The core of a Machine Learning algorithm is the ability to learn and generalize from the dataset that the algorithm has seen. However, if the algorithm is given enough flexibility (more parameters), then it may happen that the algorithm “overfits” the noisy data. This means that the algorithm is fooled into believing that the noise part of data also represents a pattern. In order to avoid that, one commonly used technique is called as Regularization. In regularization, a penalty term is added to the algorithm’s cost function, which represents the size of the weights (parameters) of the algorithm. This ensures that for the minimization of the cost, the weights are smaller thereby leading to lesser freedom for the algorithm. This greatly helps in avoiding overfitting. There are 2 commonly used techniques in regularization:"
   ]
  },
  {
   "cell_type": "markdown",
   "metadata": {},
   "source": [
    "* **L1 regularization:** In L1 regularization, a term of |$w_{i}$| is added for each i. The modulus function is always positive and so, the regularization term leads to an increase in the cost function.\n",
    "* **L2 regularization:** In L2 regularization, a term of $w_{i}^{2}$ is added. Since square is a positive function, so here also the regularization term leads to an increase in the cost function."
   ]
  },
  {
   "cell_type": "markdown",
   "metadata": {},
   "source": [
    "### In order to minimize the cost, the optimizer tries to take lower values of the weights, thereby leading to less flexibility of the algorithm. This avoids overfitting which in turn helps in handling noisy data easily."
   ]
  },
  {
   "cell_type": "markdown",
   "metadata": {},
   "source": [
    "# Training"
   ]
  },
  {
   "cell_type": "code",
   "execution_count": 24,
   "metadata": {},
   "outputs": [],
   "source": [
    "for trial in range(Ntrials):     \n",
    "\n",
    "  if (trial %2) == 0:\n",
    "    x_train, y_train = x_train_1, y_train_1\n",
    "  elif (trial %3) == 0:\n",
    "    x_train, y_train = x_train_2, y_train_2\n",
    "  else:\n",
    "    x_train, y_train = x_train_3, y_train_3    \n",
    "    \n",
    "  h=1/(1+np.exp(-wh@x_train.T))        #hidden activation for all pattern\n",
    "  y=1/(1+np.exp(-wo@h))                #output for all pattern\n",
    "\n",
    "  do=y*(1-y)*(y_train.T-y)/20000  # delta output\n",
    "  dh=h*(1-h)*(wo.transpose()@do)       # delta backpropagated  \n",
    "\n",
    "\n",
    "  # update weights with momentum\n",
    "  dwo=0.9*dwo+do@h.T\n",
    "  wo=wo+learning_rate*dwo\n",
    "  dwh=0.9*dwh+dh@x_train\n",
    "  wh=wh+learning_rate*dwh\n",
    "  mse = np.mean((y_train.T-y)**2)\n",
    "  error=np.append(error,mse)\n",
    "\n"
   ]
  },
  {
   "cell_type": "markdown",
   "metadata": {},
   "source": [
    "# Testing"
   ]
  },
  {
   "cell_type": "code",
   "execution_count": 25,
   "metadata": {},
   "outputs": [
    {
     "name": "stdout",
     "output_type": "stream",
     "text": [
      "Accuracy on testing: 0.8607\n"
     ]
    }
   ],
   "source": [
    "h = 1/(1+np.exp(-wh@x_test.T)) #hidden activation for all pattern\n",
    "y = 1/(1+np.exp(-wo@h))        #output for all pattern\n",
    "y = np.around(y).T\n",
    "\n",
    "\n",
    "accuracy = (y_test == y).astype(np.int)\n",
    "mean_arry = np.asarray(accuracy).mean()\n",
    "print('Accuracy on testing: ' + str(mean_arry))\n"
   ]
  },
  {
   "cell_type": "code",
   "execution_count": 26,
   "metadata": {},
   "outputs": [
    {
     "data": {
      "application/pdf": "[encoded data removed]",
      "image/png": "[encoded data removed]",
      "text/plain": [
       "<Figure size 432x288 with 1 Axes>"
      ]
     },
     "metadata": {
      "needs_background": "light"
     },
     "output_type": "display_data"
    }
   ],
   "source": [
    "from IPython.display import set_matplotlib_formats\n",
    "set_matplotlib_formats('pdf', 'png')\n",
    "\n",
    "plt.xlabel(\"Iteration\")\n",
    "plt.ylabel(\"MSE\")\n",
    "plt.plot(error)\n",
    "plt.show()"
   ]
  },
  {
   "cell_type": "markdown",
   "metadata": {},
   "source": [
    "**When we are building a model, we are making the assumption that our data has two parts, signal and noise. Signal is the real pattern, the repeatable process that we hope to capture and describe. It is the information that we care about. The signal is what lets the model generalize to new situations. The noise is everything else that gets in the way of that.**"
   ]
  },
  {
   "cell_type": "markdown",
   "metadata": {},
   "source": [
    "## A perfect model describes the signal exactly, and ignores all of the noise."
   ]
  },
  {
   "cell_type": "markdown",
   "metadata": {},
   "source": [
    "* If a model fails to capture all of the signal, that type of error is called bias.\n",
    "* If a model captures of some of the noise, that type of error is called variance."
   ]
  },
  {
   "cell_type": "markdown",
   "metadata": {},
   "source": [
    "## Underfitting: too much bias in our model.\n",
    "## Overfitting: too much variance in our model."
   ]
  },
  {
   "cell_type": "markdown",
   "metadata": {},
   "source": [
    "# Noisy pattern"
   ]
  },
  {
   "cell_type": "markdown",
   "metadata": {},
   "source": [
    "# Noise model from a binomial distribution."
   ]
  },
  {
   "cell_type": "code",
   "execution_count": 27,
   "metadata": {},
   "outputs": [],
   "source": [
    "accurray = []\n",
    "probabilities = np.linspace(0,1,10)\n",
    "x_rescaled = 2*x_test.copy()-1"
   ]
  },
  {
   "cell_type": "code",
   "execution_count": 28,
   "metadata": {},
   "outputs": [
    {
     "data": {
      "text/plain": [
       "(10000, 785)"
      ]
     },
     "execution_count": 28,
     "metadata": {},
     "output_type": "execute_result"
    }
   ],
   "source": [
    "x_test.shape"
   ]
  },
  {
   "cell_type": "code",
   "execution_count": 29,
   "metadata": {},
   "outputs": [],
   "source": [
    "for p in probabilities:\n",
    "  mean = 0\n",
    "  for i in range(10):\n",
    "    x_nosie = 2*np.random.binomial(1, (1-p), size=(10000, 785)) - 1\n",
    "    \n",
    "    x_noisy_rescaled=(x_rescaled*x_nosie+1)/2\n",
    "    \n",
    "    h=1/(1+np.exp(-wh@x_noisy_rescaled.T))  # hidden activation for all pattern\n",
    "    y=1/(1+np.exp(-wo@h))          # output for all pattern\n",
    "    y = np.around(y).T\n",
    " \n",
    "    accuracy_i = (y_test == y).astype(np.int)\n",
    "    mean+=accuracy_i.mean()/10\n",
    " \n",
    "  accurray.append(mean)\n"
   ]
  },
  {
   "cell_type": "markdown",
   "metadata": {},
   "source": [
    "# Decreasing model Accuracy with binomial noise."
   ]
  },
  {
   "cell_type": "code",
   "execution_count": 30,
   "metadata": {},
   "outputs": [
    {
     "data": {
      "application/pdf": "[encoded data removed]",
      "image/png": "[encoded data removed]",
      "text/plain": [
       "<Figure size 432x288 with 1 Axes>"
      ]
     },
     "metadata": {
      "needs_background": "light"
     },
     "output_type": "display_data"
    }
   ],
   "source": [
    "plt.plot(accurray)\n",
    "plt.title('Accuracy with Noise')\n",
    "plt.ylabel('Accuracy')\n",
    "plt.xlabel('x10% noise')\n",
    "plt.show()"
   ]
  },
  {
   "cell_type": "markdown",
   "metadata": {},
   "source": [
    "## if we keep on increasing the noise, the training accuracy keeps on decreasing, noise is inversely proportional to the training accuracy."
   ]
  },
  {
   "cell_type": "code",
   "execution_count": null,
   "metadata": {},
   "outputs": [],
   "source": []
  }
 ],
 "metadata": {
  "kernelspec": {
   "display_name": "Python 3",
   "language": "python",
   "name": "python3"
  },
  "language_info": {
   "codemirror_mode": {
    "name": "ipython",
    "version": 3
   },
   "file_extension": ".py",
   "mimetype": "text/x-python",
   "name": "python",
   "nbconvert_exporter": "python",
   "pygments_lexer": "ipython3",
   "version": "3.7.4"
  }
 },
 "nbformat": 4,
 "nbformat_minor": 2
}
